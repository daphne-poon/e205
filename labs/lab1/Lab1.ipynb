{
  "nbformat": 4,
  "nbformat_minor": 0,
  "metadata": {
    "colab": {
      "name": "Lab1.ipynb",
      "provenance": [],
      "collapsed_sections": [],
      "toc_visible": true
    },
    "kernelspec": {
      "name": "python3",
      "display_name": "Python 3"
    }
  },
  "cells": [
    {
      "cell_type": "code",
      "metadata": {
        "id": "KqwtZSaSmdr6",
        "colab_type": "code",
        "colab": {
          "base_uri": "https://localhost:8080/",
          "height": 34
        },
        "outputId": "e7a46cee-884d-4c24-ab85-79d3f422d00d"
      },
      "source": [
        "from google.colab import drive\n",
        "drive.mount('/content/drive')"
      ],
      "execution_count": null,
      "outputs": [
        {
          "output_type": "stream",
          "text": [
            "Mounted at /content/drive\n"
          ],
          "name": "stdout"
        }
      ]
    },
    {
      "cell_type": "code",
      "metadata": {
        "id": "QjGZ_mU8jAbH",
        "colab_type": "code",
        "colab": {}
      },
      "source": [
        "import math\n",
        "import numpy as np\n",
        "import pandas as pd\n",
        "import scipy\n",
        "import scipy.integrate\n",
        "from scipy.stats import norm\n",
        "import matplotlib.pyplot as plt"
      ],
      "execution_count": null,
      "outputs": []
    },
    {
      "cell_type": "markdown",
      "metadata": {
        "id": "0x34tQXIns_C",
        "colab_type": "text"
      },
      "source": [
        "#Load Data"
      ]
    },
    {
      "cell_type": "code",
      "metadata": {
        "id": "-G8hzk5yj9dN",
        "colab_type": "code",
        "colab": {}
      },
      "source": [
        "azimuth_neg90 = pd.read_csv(\"/content/drive/Shared drives/E205 /Lab1/E205_Lab_01_data/lab1_azimuth_-90.csv\")\n",
        "azimuth_0 = pd.read_csv(\"/content/drive/Shared drives/E205 /Lab1/E205_Lab_01_data/lab1_azimuth_00.csv\")\n",
        "azimuth_90 = pd.read_csv(\"/content/drive/Shared drives/E205 /Lab1/E205_Lab_01_data/lab1_azimuth_90.csv\")\n",
        "police_df = pd.read_csv(\"/content/drive/Shared drives/E205 /Lab1/police_killings.csv\")"
      ],
      "execution_count": null,
      "outputs": []
    },
    {
      "cell_type": "code",
      "metadata": {
        "id": "rzy4yhil3WTd",
        "colab_type": "code",
        "colab": {
          "base_uri": "https://localhost:8080/",
          "height": 197
        },
        "outputId": "c6981a34-ae3a-4c74-cac7-0ea420527105"
      },
      "source": [
        "azimuth_neg90.head()"
      ],
      "execution_count": null,
      "outputs": [
        {
          "output_type": "execute_result",
          "data": {
            "text/html": [
              "<div>\n",
              "<style scoped>\n",
              "    .dataframe tbody tr th:only-of-type {\n",
              "        vertical-align: middle;\n",
              "    }\n",
              "\n",
              "    .dataframe tbody tr th {\n",
              "        vertical-align: top;\n",
              "    }\n",
              "\n",
              "    .dataframe thead th {\n",
              "        text-align: right;\n",
              "    }\n",
              "</style>\n",
              "<table border=\"1\" class=\"dataframe\">\n",
              "  <thead>\n",
              "    <tr style=\"text-align: right;\">\n",
              "      <th></th>\n",
              "      <th>Range(m)</th>\n",
              "      <th>Elevation(degrees)</th>\n",
              "      <th>Azimuth(degrees)</th>\n",
              "      <th>Reflectivity</th>\n",
              "      <th>Time Stamp(s)</th>\n",
              "      <th>Latitude</th>\n",
              "      <th>Longitude</th>\n",
              "      <th>Time Stamp(s).1</th>\n",
              "    </tr>\n",
              "  </thead>\n",
              "  <tbody>\n",
              "    <tr>\n",
              "      <th>0</th>\n",
              "      <td>9.272</td>\n",
              "      <td>1.0</td>\n",
              "      <td>269.588125</td>\n",
              "      <td>21.0</td>\n",
              "      <td>2453.166531</td>\n",
              "      <td>34.106412</td>\n",
              "      <td>-117.712031</td>\n",
              "      <td>2453.257143</td>\n",
              "    </tr>\n",
              "    <tr>\n",
              "      <th>1</th>\n",
              "      <td>9.276</td>\n",
              "      <td>1.0</td>\n",
              "      <td>269.783125</td>\n",
              "      <td>21.0</td>\n",
              "      <td>2453.166531</td>\n",
              "      <td>34.106412</td>\n",
              "      <td>-117.712031</td>\n",
              "      <td>2453.257143</td>\n",
              "    </tr>\n",
              "    <tr>\n",
              "      <th>2</th>\n",
              "      <td>9.278</td>\n",
              "      <td>1.0</td>\n",
              "      <td>270.138125</td>\n",
              "      <td>19.0</td>\n",
              "      <td>2454.266701</td>\n",
              "      <td>34.106412</td>\n",
              "      <td>-117.712031</td>\n",
              "      <td>2454.344943</td>\n",
              "    </tr>\n",
              "    <tr>\n",
              "      <th>3</th>\n",
              "      <td>9.280</td>\n",
              "      <td>1.0</td>\n",
              "      <td>270.333125</td>\n",
              "      <td>22.0</td>\n",
              "      <td>2454.266701</td>\n",
              "      <td>34.106412</td>\n",
              "      <td>-117.712031</td>\n",
              "      <td>2454.344943</td>\n",
              "    </tr>\n",
              "    <tr>\n",
              "      <th>4</th>\n",
              "      <td>9.266</td>\n",
              "      <td>1.0</td>\n",
              "      <td>269.888333</td>\n",
              "      <td>19.0</td>\n",
              "      <td>2454.566627</td>\n",
              "      <td>34.106412</td>\n",
              "      <td>-117.712031</td>\n",
              "      <td>2454.643000</td>\n",
              "    </tr>\n",
              "  </tbody>\n",
              "</table>\n",
              "</div>"
            ],
            "text/plain": [
              "   Range(m)  Elevation(degrees)  ...   Longitude  Time Stamp(s).1\n",
              "0     9.272                 1.0  ... -117.712031      2453.257143\n",
              "1     9.276                 1.0  ... -117.712031      2453.257143\n",
              "2     9.278                 1.0  ... -117.712031      2454.344943\n",
              "3     9.280                 1.0  ... -117.712031      2454.344943\n",
              "4     9.266                 1.0  ... -117.712031      2454.643000\n",
              "\n",
              "[5 rows x 8 columns]"
            ]
          },
          "metadata": {
            "tags": []
          },
          "execution_count": 4
        }
      ]
    },
    {
      "cell_type": "markdown",
      "metadata": {
        "id": "YkHe3lCLnv7h",
        "colab_type": "text"
      },
      "source": [
        "# Create Histograms"
      ]
    },
    {
      "cell_type": "code",
      "metadata": {
        "id": "WrCJNqg9kQlM",
        "colab_type": "code",
        "colab": {
          "base_uri": "https://localhost:8080/",
          "height": 312
        },
        "outputId": "da5d2ddf-f133-4aea-f59e-2621f63ff11a"
      },
      "source": [
        "plt.hist(azimuth_neg90['Range(m)'], bins=50)\n",
        "plt.ylabel('Frequency')\n",
        "plt.xlabel('Range (m)')\n",
        "plt.title('Range Histogram (for Azimuth = -90 degrees)')"
      ],
      "execution_count": null,
      "outputs": [
        {
          "output_type": "execute_result",
          "data": {
            "text/plain": [
              "Text(0.5, 1.0, 'Range Histogram (for Azimuth = -90 degrees)')"
            ]
          },
          "metadata": {
            "tags": []
          },
          "execution_count": 5
        },
        {
          "output_type": "display_data",
          "data": {
            "image/png": "[encoded data removed]",
            "text/plain": [
              "<Figure size 432x288 with 1 Axes>"
            ]
          },
          "metadata": {
            "tags": [],
            "needs_background": "light"
          }
        }
      ]
    },
    {
      "cell_type": "code",
      "metadata": {
        "id": "NyxRrkEY_H1P",
        "colab_type": "code",
        "colab": {
          "base_uri": "https://localhost:8080/",
          "height": 534
        },
        "outputId": "168061c7-6df0-4e91-81f6-4d41ddb67fe3"
      },
      "source": [
        "# azimuth_neg90['Range(m)']\n",
        "filt = police_df[police_df['Victim\\'s age'].notnull()]\n",
        "filt = filt[filt[\"Victim's age\"] != 'Unknown']\n",
        "filt = filt[filt[\"Victim's age\"] != '40s']\n",
        "# isEE = police_df[\"Victim's age\"]\n",
        "police_df = pd.read_csv(\"/content/drive/Shared drives/E205 /Lab1/police_killings.csv\")\n",
        "# filt = police_df[police_df[\"Victim's age\"].map(lambda x: isinstance(x,int))]\n",
        "filt.sort_values(by='Victim\\'s age')\n",
        "filt.head()\n",
        "# filt.astype({'Victim\\'s age': 'int32'})\n",
        "# filt[\"Victim's age\"] = filt[\"Victim's age\"].apply(int                                                  \n",
        "# filt.head()\n",
        "# plt.hist(filt['Victim\\'s age'], bins=5)\n",
        "# plt.xticks(np.arange(0, 100, step=5))"
      ],
      "execution_count": null,
      "outputs": [
        {
          "output_type": "execute_result",
          "data": {
            "text/html": [
              "<div>\n",
              "<style scoped>\n",
              "    .dataframe tbody tr th:only-of-type {\n",
              "        vertical-align: middle;\n",
              "    }\n",
              "\n",
              "    .dataframe tbody tr th {\n",
              "        vertical-align: top;\n",
              "    }\n",
              "\n",
              "    .dataframe thead th {\n",
              "        text-align: right;\n",
              "    }\n",
              "</style>\n",
              "<table border=\"1\" class=\"dataframe\">\n",
              "  <thead>\n",
              "    <tr style=\"text-align: right;\">\n",
              "      <th></th>\n",
              "      <th>Victim's name</th>\n",
              "      <th>Victim's age</th>\n",
              "      <th>Victim's gender</th>\n",
              "      <th>Victim's race</th>\n",
              "      <th>URL of image of victim</th>\n",
              "      <th>Date of Incident (month/day/year)</th>\n",
              "      <th>Street Address of Incident</th>\n",
              "      <th>City</th>\n",
              "      <th>State</th>\n",
              "      <th>Zipcode</th>\n",
              "      <th>County</th>\n",
              "      <th>Agency responsible for death</th>\n",
              "      <th>Cause of death</th>\n",
              "      <th>A brief description of the circumstances surrounding the death</th>\n",
              "      <th>Official disposition of death (justified or other)</th>\n",
              "      <th>Criminal Charges?</th>\n",
              "      <th>Link to news article or photo of official document</th>\n",
              "      <th>Symptoms of mental illness?</th>\n",
              "      <th>Unarmed</th>\n",
              "      <th>Alleged Weapon (Source: WaPo)</th>\n",
              "      <th>Alleged Threat Level (Source: WaPo)</th>\n",
              "      <th>Fleeing (Source: WaPo)</th>\n",
              "      <th>Body Camera (Source: WaPo)</th>\n",
              "      <th>WaPo ID (If included in WaPo database)</th>\n",
              "      <th>Off-Duty Killing?</th>\n",
              "      <th>Geography (via Trulia methodology based on zipcode population density: http://jedkolko.com/wp-content/uploads/2015/05/full-ZCTA-urban-suburban-rural-classification.xlsx )</th>\n",
              "      <th>ID</th>\n",
              "      <th>Unnamed: 27</th>\n",
              "      <th>Unnamed: 28</th>\n",
              "      <th>Unnamed: 29</th>\n",
              "      <th>Unnamed: 30</th>\n",
              "      <th>Unnamed: 31</th>\n",
              "      <th>Unnamed: 32</th>\n",
              "      <th>Unnamed: 33</th>\n",
              "      <th>Unnamed: 34</th>\n",
              "      <th>Unnamed: 35</th>\n",
              "      <th>Unnamed: 36</th>\n",
              "      <th>Unnamed: 37</th>\n",
              "      <th>Unnamed: 38</th>\n",
              "      <th>Unnamed: 39</th>\n",
              "      <th>Unnamed: 40</th>\n",
              "      <th>Unnamed: 41</th>\n",
              "      <th>Unnamed: 42</th>\n",
              "      <th>Unnamed: 43</th>\n",
              "      <th>Unnamed: 44</th>\n",
              "      <th>Unnamed: 45</th>\n",
              "      <th>Unnamed: 46</th>\n",
              "      <th>Unnamed: 47</th>\n",
              "      <th>Unnamed: 48</th>\n",
              "      <th>Unnamed: 49</th>\n",
              "      <th>Unnamed: 50</th>\n",
              "      <th>Unnamed: 51</th>\n",
              "      <th>Unnamed: 52</th>\n",
              "      <th>Unnamed: 53</th>\n",
              "      <th>Unnamed: 54</th>\n",
              "      <th>Unnamed: 55</th>\n",
              "      <th>Unnamed: 56</th>\n",
              "      <th>Unnamed: 57</th>\n",
              "      <th>Unnamed: 58</th>\n",
              "      <th>Unnamed: 59</th>\n",
              "      <th>Unnamed: 60</th>\n",
              "      <th>Unnamed: 61</th>\n",
              "      <th>Unnamed: 62</th>\n",
              "      <th>Unnamed: 63</th>\n",
              "      <th>Unnamed: 64</th>\n",
              "      <th>Unnamed: 65</th>\n",
              "    </tr>\n",
              "  </thead>\n",
              "  <tbody>\n",
              "    <tr>\n",
              "      <th>0</th>\n",
              "      <td>Eric M. Tellez</td>\n",
              "      <td>28</td>\n",
              "      <td>Male</td>\n",
              "      <td>White</td>\n",
              "      <td>https://fatalencounters.org/wp-content/uploads...</td>\n",
              "      <td>31/12/2019</td>\n",
              "      <td>Broad St.</td>\n",
              "      <td>Globe</td>\n",
              "      <td>AZ</td>\n",
              "      <td>85501.0</td>\n",
              "      <td>Gila</td>\n",
              "      <td>Globe Police Department</td>\n",
              "      <td>Gunshot</td>\n",
              "      <td>After midnight, a patrol officer was on routin...</td>\n",
              "      <td>Pending investigation</td>\n",
              "      <td>No known charges</td>\n",
              "      <td>https://www.azfamily.com/news/phoenix-man-arme...</td>\n",
              "      <td>No</td>\n",
              "      <td>Allegedly Armed</td>\n",
              "      <td>knife</td>\n",
              "      <td>other</td>\n",
              "      <td>not fleeing</td>\n",
              "      <td>no</td>\n",
              "      <td>5332.0</td>\n",
              "      <td>NaN</td>\n",
              "      <td>Rural</td>\n",
              "      <td>7664.0</td>\n",
              "      <td>NaN</td>\n",
              "      <td>NaN</td>\n",
              "      <td>NaN</td>\n",
              "      <td>NaN</td>\n",
              "      <td>NaN</td>\n",
              "      <td>NaN</td>\n",
              "      <td>NaN</td>\n",
              "      <td>NaN</td>\n",
              "      <td>NaN</td>\n",
              "      <td>NaN</td>\n",
              "      <td>NaN</td>\n",
              "      <td>NaN</td>\n",
              "      <td>NaN</td>\n",
              "      <td>NaN</td>\n",
              "      <td>NaN</td>\n",
              "      <td>NaN</td>\n",
              "      <td>NaN</td>\n",
              "      <td>NaN</td>\n",
              "      <td>NaN</td>\n",
              "      <td>NaN</td>\n",
              "      <td>NaN</td>\n",
              "      <td>NaN</td>\n",
              "      <td>NaN</td>\n",
              "      <td>NaN</td>\n",
              "      <td>NaN</td>\n",
              "      <td>NaN</td>\n",
              "      <td>NaN</td>\n",
              "      <td>NaN</td>\n",
              "      <td>NaN</td>\n",
              "      <td>NaN</td>\n",
              "      <td>NaN</td>\n",
              "      <td>NaN</td>\n",
              "      <td>NaN</td>\n",
              "      <td>NaN</td>\n",
              "      <td>NaN</td>\n",
              "      <td>NaN</td>\n",
              "      <td>NaN</td>\n",
              "      <td>NaN</td>\n",
              "      <td>NaN</td>\n",
              "    </tr>\n",
              "    <tr>\n",
              "      <th>2</th>\n",
              "      <td>Terry Hudson</td>\n",
              "      <td>57</td>\n",
              "      <td>Male</td>\n",
              "      <td>Black</td>\n",
              "      <td>NaN</td>\n",
              "      <td>31/12/2019</td>\n",
              "      <td>3600 N 24th St</td>\n",
              "      <td>Omaha</td>\n",
              "      <td>NE</td>\n",
              "      <td>68110.0</td>\n",
              "      <td>Douglas</td>\n",
              "      <td>Omaha Police Department</td>\n",
              "      <td>Gunshot</td>\n",
              "      <td>Police responded to a domestic incident on the...</td>\n",
              "      <td>Pending investigation</td>\n",
              "      <td>No known charges</td>\n",
              "      <td>https://www.ketv.com/article/omaha-police-offi...</td>\n",
              "      <td>No</td>\n",
              "      <td>Allegedly Armed</td>\n",
              "      <td>gun</td>\n",
              "      <td>attack</td>\n",
              "      <td>not fleeing</td>\n",
              "      <td>no</td>\n",
              "      <td>5359.0</td>\n",
              "      <td>NaN</td>\n",
              "      <td>Urban</td>\n",
              "      <td>7661.0</td>\n",
              "      <td>NaN</td>\n",
              "      <td>NaN</td>\n",
              "      <td>NaN</td>\n",
              "      <td>NaN</td>\n",
              "      <td>NaN</td>\n",
              "      <td>NaN</td>\n",
              "      <td>NaN</td>\n",
              "      <td>NaN</td>\n",
              "      <td>NaN</td>\n",
              "      <td>NaN</td>\n",
              "      <td>NaN</td>\n",
              "      <td>NaN</td>\n",
              "      <td>NaN</td>\n",
              "      <td>NaN</td>\n",
              "      <td>NaN</td>\n",
              "      <td>NaN</td>\n",
              "      <td>NaN</td>\n",
              "      <td>NaN</td>\n",
              "      <td>NaN</td>\n",
              "      <td>NaN</td>\n",
              "      <td>NaN</td>\n",
              "      <td>NaN</td>\n",
              "      <td>NaN</td>\n",
              "      <td>NaN</td>\n",
              "      <td>NaN</td>\n",
              "      <td>NaN</td>\n",
              "      <td>NaN</td>\n",
              "      <td>NaN</td>\n",
              "      <td>NaN</td>\n",
              "      <td>NaN</td>\n",
              "      <td>NaN</td>\n",
              "      <td>NaN</td>\n",
              "      <td>NaN</td>\n",
              "      <td>NaN</td>\n",
              "      <td>NaN</td>\n",
              "      <td>NaN</td>\n",
              "      <td>NaN</td>\n",
              "      <td>NaN</td>\n",
              "      <td>NaN</td>\n",
              "    </tr>\n",
              "    <tr>\n",
              "      <th>3</th>\n",
              "      <td>Malik Williams</td>\n",
              "      <td>23</td>\n",
              "      <td>Male</td>\n",
              "      <td>Black</td>\n",
              "      <td>NaN</td>\n",
              "      <td>31/12/2019</td>\n",
              "      <td>30800 14th Avenue South</td>\n",
              "      <td>Federal Way</td>\n",
              "      <td>WA</td>\n",
              "      <td>98003.0</td>\n",
              "      <td>King</td>\n",
              "      <td>Federal Way Police Department</td>\n",
              "      <td>Gunshot</td>\n",
              "      <td>Police responded to a domestic dispute. Police...</td>\n",
              "      <td>Pending investigation</td>\n",
              "      <td>No known charges</td>\n",
              "      <td>https://www.king5.com/article/news/local/2-fed...</td>\n",
              "      <td>No</td>\n",
              "      <td>Allegedly Armed</td>\n",
              "      <td>gun</td>\n",
              "      <td>attack</td>\n",
              "      <td>not fleeing</td>\n",
              "      <td>no</td>\n",
              "      <td>5358.0</td>\n",
              "      <td>NaN</td>\n",
              "      <td>Suburban</td>\n",
              "      <td>7662.0</td>\n",
              "      <td>NaN</td>\n",
              "      <td>NaN</td>\n",
              "      <td>NaN</td>\n",
              "      <td>NaN</td>\n",
              "      <td>NaN</td>\n",
              "      <td>NaN</td>\n",
              "      <td>NaN</td>\n",
              "      <td>NaN</td>\n",
              "      <td>NaN</td>\n",
              "      <td>NaN</td>\n",
              "      <td>NaN</td>\n",
              "      <td>NaN</td>\n",
              "      <td>NaN</td>\n",
              "      <td>NaN</td>\n",
              "      <td>NaN</td>\n",
              "      <td>NaN</td>\n",
              "      <td>NaN</td>\n",
              "      <td>NaN</td>\n",
              "      <td>NaN</td>\n",
              "      <td>NaN</td>\n",
              "      <td>NaN</td>\n",
              "      <td>NaN</td>\n",
              "      <td>NaN</td>\n",
              "      <td>NaN</td>\n",
              "      <td>NaN</td>\n",
              "      <td>NaN</td>\n",
              "      <td>NaN</td>\n",
              "      <td>NaN</td>\n",
              "      <td>NaN</td>\n",
              "      <td>NaN</td>\n",
              "      <td>NaN</td>\n",
              "      <td>NaN</td>\n",
              "      <td>NaN</td>\n",
              "      <td>NaN</td>\n",
              "      <td>NaN</td>\n",
              "      <td>NaN</td>\n",
              "      <td>NaN</td>\n",
              "      <td>NaN</td>\n",
              "      <td>NaN</td>\n",
              "    </tr>\n",
              "    <tr>\n",
              "      <th>4</th>\n",
              "      <td>Frederick Perkins</td>\n",
              "      <td>37</td>\n",
              "      <td>Male</td>\n",
              "      <td>Black</td>\n",
              "      <td>NaN</td>\n",
              "      <td>31/12/2019</td>\n",
              "      <td>17057 N Outer 40 Rd</td>\n",
              "      <td>Chesterfield</td>\n",
              "      <td>MO</td>\n",
              "      <td>63005.0</td>\n",
              "      <td>St. Louis</td>\n",
              "      <td>Chesterfield Police Department</td>\n",
              "      <td>Gunshot</td>\n",
              "      <td>Police went to Chesterfield Outlets about 1 p....</td>\n",
              "      <td>Pending investigation</td>\n",
              "      <td>No known charges</td>\n",
              "      <td>https://www.stltoday.com/news/local/crime-and-...</td>\n",
              "      <td>No</td>\n",
              "      <td>Vehicle</td>\n",
              "      <td>vehicle</td>\n",
              "      <td>attack</td>\n",
              "      <td>car</td>\n",
              "      <td>no</td>\n",
              "      <td>5333.0</td>\n",
              "      <td>NaN</td>\n",
              "      <td>Suburban</td>\n",
              "      <td>7667.0</td>\n",
              "      <td>NaN</td>\n",
              "      <td>NaN</td>\n",
              "      <td>NaN</td>\n",
              "      <td>NaN</td>\n",
              "      <td>NaN</td>\n",
              "      <td>NaN</td>\n",
              "      <td>NaN</td>\n",
              "      <td>NaN</td>\n",
              "      <td>NaN</td>\n",
              "      <td>NaN</td>\n",
              "      <td>NaN</td>\n",
              "      <td>NaN</td>\n",
              "      <td>NaN</td>\n",
              "      <td>NaN</td>\n",
              "      <td>NaN</td>\n",
              "      <td>NaN</td>\n",
              "      <td>NaN</td>\n",
              "      <td>NaN</td>\n",
              "      <td>NaN</td>\n",
              "      <td>NaN</td>\n",
              "      <td>NaN</td>\n",
              "      <td>NaN</td>\n",
              "      <td>NaN</td>\n",
              "      <td>NaN</td>\n",
              "      <td>NaN</td>\n",
              "      <td>NaN</td>\n",
              "      <td>NaN</td>\n",
              "      <td>NaN</td>\n",
              "      <td>NaN</td>\n",
              "      <td>NaN</td>\n",
              "      <td>NaN</td>\n",
              "      <td>NaN</td>\n",
              "      <td>NaN</td>\n",
              "      <td>NaN</td>\n",
              "      <td>NaN</td>\n",
              "      <td>NaN</td>\n",
              "      <td>NaN</td>\n",
              "      <td>NaN</td>\n",
              "      <td>NaN</td>\n",
              "    </tr>\n",
              "    <tr>\n",
              "      <th>5</th>\n",
              "      <td>Michael Vincent Davis</td>\n",
              "      <td>49</td>\n",
              "      <td>Male</td>\n",
              "      <td>White</td>\n",
              "      <td>NaN</td>\n",
              "      <td>31/12/2019</td>\n",
              "      <td>Dawn Street</td>\n",
              "      <td>Cross Lanes</td>\n",
              "      <td>WV</td>\n",
              "      <td>25313.0</td>\n",
              "      <td>Kanawha</td>\n",
              "      <td>Kanawha County Sheriff's Department</td>\n",
              "      <td>Gunshot</td>\n",
              "      <td>Deputies responded to a disturbance on Dawn St...</td>\n",
              "      <td>Pending investigation</td>\n",
              "      <td>No known charges</td>\n",
              "      <td>https://www.wsaz.com/content/news/Shooting-rep...</td>\n",
              "      <td>No</td>\n",
              "      <td>Allegedly Armed</td>\n",
              "      <td>gun</td>\n",
              "      <td>attack</td>\n",
              "      <td>Foot</td>\n",
              "      <td>No</td>\n",
              "      <td>5374.0</td>\n",
              "      <td>NaN</td>\n",
              "      <td>Suburban</td>\n",
              "      <td>7663.0</td>\n",
              "      <td>NaN</td>\n",
              "      <td>NaN</td>\n",
              "      <td>NaN</td>\n",
              "      <td>NaN</td>\n",
              "      <td>NaN</td>\n",
              "      <td>NaN</td>\n",
              "      <td>NaN</td>\n",
              "      <td>NaN</td>\n",
              "      <td>NaN</td>\n",
              "      <td>NaN</td>\n",
              "      <td>NaN</td>\n",
              "      <td>NaN</td>\n",
              "      <td>NaN</td>\n",
              "      <td>NaN</td>\n",
              "      <td>NaN</td>\n",
              "      <td>NaN</td>\n",
              "      <td>NaN</td>\n",
              "      <td>NaN</td>\n",
              "      <td>NaN</td>\n",
              "      <td>NaN</td>\n",
              "      <td>NaN</td>\n",
              "      <td>NaN</td>\n",
              "      <td>NaN</td>\n",
              "      <td>NaN</td>\n",
              "      <td>NaN</td>\n",
              "      <td>NaN</td>\n",
              "      <td>NaN</td>\n",
              "      <td>NaN</td>\n",
              "      <td>NaN</td>\n",
              "      <td>NaN</td>\n",
              "      <td>NaN</td>\n",
              "      <td>NaN</td>\n",
              "      <td>NaN</td>\n",
              "      <td>NaN</td>\n",
              "      <td>NaN</td>\n",
              "      <td>NaN</td>\n",
              "      <td>NaN</td>\n",
              "      <td>NaN</td>\n",
              "      <td>NaN</td>\n",
              "    </tr>\n",
              "  </tbody>\n",
              "</table>\n",
              "</div>"
            ],
            "text/plain": [
              "           Victim's name Victim's age  ... Unnamed: 64 Unnamed: 65\n",
              "0         Eric M. Tellez           28  ...         NaN         NaN\n",
              "2           Terry Hudson           57  ...         NaN         NaN\n",
              "3         Malik Williams           23  ...         NaN         NaN\n",
              "4      Frederick Perkins           37  ...         NaN         NaN\n",
              "5  Michael Vincent Davis           49  ...         NaN         NaN\n",
              "\n",
              "[5 rows x 66 columns]"
            ]
          },
          "metadata": {
            "tags": []
          },
          "execution_count": 6
        }
      ]
    },
    {
      "cell_type": "code",
      "metadata": {
        "id": "k-J97Wz2kR5v",
        "colab_type": "code",
        "colab": {
          "base_uri": "https://localhost:8080/",
          "height": 312
        },
        "outputId": "5af71c00-8c1c-415d-bfc8-f74cf951f62c"
      },
      "source": [
        "plt.hist(azimuth_0['Range(m)'], bins=50)\n",
        "plt.ylabel('Frequency')\n",
        "plt.xlabel('Range (m)')\n",
        "plt.title('Range Histogram (for Azimuth = 0 degrees)')"
      ],
      "execution_count": null,
      "outputs": [
        {
          "output_type": "execute_result",
          "data": {
            "text/plain": [
              "Text(0.5, 1.0, 'Range Histogram (for Azimuth = 0 degrees)')"
            ]
          },
          "metadata": {
            "tags": []
          },
          "execution_count": 7
        },
        {
          "output_type": "display_data",
          "data": {
            "image/png": "[encoded data removed]",
            "text/plain": [
              "<Figure size 432x288 with 1 Axes>"
            ]
          },
          "metadata": {
            "tags": [],
            "needs_background": "light"
          }
        }
      ]
    },
    {
      "cell_type": "code",
      "metadata": {
        "id": "BTGbk7l9k1pr",
        "colab_type": "code",
        "colab": {
          "base_uri": "https://localhost:8080/",
          "height": 312
        },
        "outputId": "e54f7fbf-a276-46f3-9b81-3c5ce84e8cc8"
      },
      "source": [
        "plt.hist(azimuth_90['Range(m)'], bins=50)\n",
        "plt.ylabel('Frequency')\n",
        "plt.xlabel('Range (m)')\n",
        "plt.title('Range Histogram (for Azimuth = 0 degrees)')"
      ],
      "execution_count": null,
      "outputs": [
        {
          "output_type": "execute_result",
          "data": {
            "text/plain": [
              "Text(0.5, 1.0, 'Range Histogram (for Azimuth = 0 degrees)')"
            ]
          },
          "metadata": {
            "tags": []
          },
          "execution_count": 8
        },
        {
          "output_type": "display_data",
          "data": {
            "image/png": "[encoded data removed]",
            "text/plain": [
              "<Figure size 432x288 with 1 Axes>"
            ]
          },
          "metadata": {
            "tags": [],
            "needs_background": "light"
          }
        }
      ]
    },
    {
      "cell_type": "markdown",
      "metadata": {
        "id": "NZ9k6DBJn25-",
        "colab_type": "text"
      },
      "source": [
        "#Create a Model"
      ]
    },
    {
      "cell_type": "code",
      "metadata": {
        "id": "LdlJyBGylBg-",
        "colab_type": "code",
        "colab": {
          "base_uri": "https://localhost:8080/",
          "height": 264
        },
        "outputId": "54ed66d5-f0db-4b60-a23a-0cc4c8ca1d69"
      },
      "source": [
        "#create a mathematical function that best characterizes the data \n",
        "plt.hist(azimuth_neg90['Range(m)'], bins=50)\n",
        "sigma = .009\n",
        "mu = 9.281\n",
        "x_list = np.arange(9.25, 9.31, 0.001) \n",
        "y = []\n",
        "for x in x_list:\n",
        "  if (x<9.283):\n",
        "    y.append(5.8/(2*np.sqrt(2*np.pi)*sigma)*np.exp(-(x-mu)**2/(2*sigma**2)))\n",
        "  else:\n",
        "    #y.append(np.exp(.18/(x-9.245))-15)\n",
        "    y.append(.7/(x-9.278)-21)\n",
        "plt.plot(x_list, y)\n",
        "plt.show()"
      ],
      "execution_count": null,
      "outputs": [
        {
          "output_type": "display_data",
          "data": {
            "image/png": "[encoded data removed]",
            "text/plain": [
              "<Figure size 432x288 with 1 Axes>"
            ]
          },
          "metadata": {
            "tags": [],
            "needs_background": "light"
          }
        }
      ]
    },
    {
      "cell_type": "code",
      "metadata": {
        "id": "9kxd4V4vxQIo",
        "colab_type": "code",
        "colab": {
          "base_uri": "https://localhost:8080/",
          "height": 34
        },
        "outputId": "6019ddc7-92fd-487b-cf8e-bd56703c0bca"
      },
      "source": [
        "a = min(azimuth_neg90['Range(m)'])\n",
        "b = 9.283\n",
        "c = max(azimuth_neg90['Range(m)'])\n",
        "print('bounds are', a, b, c)"
      ],
      "execution_count": null,
      "outputs": [
        {
          "output_type": "stream",
          "text": [
            "bounds are 9.256 9.283 9.304\n"
          ],
          "name": "stdout"
        }
      ]
    },
    {
      "cell_type": "code",
      "metadata": {
        "id": "jLlN3ffYyeRY",
        "colab_type": "code",
        "colab": {
          "base_uri": "https://localhost:8080/",
          "height": 34
        },
        "outputId": "e752e727-d445-4ad5-a9fb-e5366349658f"
      },
      "source": [
        "f1 = lambda x:5.8/(2*np.sqrt(2*np.pi)*sigma)*np.exp(-(x-mu)**2/(2*sigma**2))\n",
        "f2 = lambda x:.7/(x-9.278)-21\n",
        "i = scipy.integrate.quad(f1, a, b)[0] + scipy.integrate.quad(f2, b, c)[0]\n",
        "print(i)"
      ],
      "execution_count": null,
      "outputs": [
        {
          "output_type": "stream",
          "text": [
            "2.410120593905418\n"
          ],
          "name": "stdout"
        }
      ]
    },
    {
      "cell_type": "code",
      "metadata": {
        "id": "dEzU55BuzRc9",
        "colab_type": "code",
        "colab": {
          "base_uri": "https://localhost:8080/",
          "height": 34
        },
        "outputId": "f8a3c31e-fc2c-4423-f02a-a940d04b49b1"
      },
      "source": [
        "f1 = lambda x:(5.8/(2*np.sqrt(2*np.pi)*sigma)*np.exp(-(x-mu)**2/(2*sigma**2)))/2.41\n",
        "f2 = lambda x:(.7/(x-9.278)-21)/2.41\n",
        "i = scipy.integrate.quad(f1, a, b)[0] + scipy.integrate.quad(f2, b, c)[0]\n",
        "print(i)"
      ],
      "execution_count": null,
      "outputs": [
        {
          "output_type": "stream",
          "text": [
            "1.0000500389649036\n"
          ],
          "name": "stdout"
        }
      ]
    },
    {
      "cell_type": "code",
      "metadata": {
        "id": "LodigomfrsKR",
        "colab_type": "code",
        "colab": {
          "base_uri": "https://localhost:8080/",
          "height": 295
        },
        "outputId": "19512681-f8f8-4402-ba3a-1885deaff5e7"
      },
      "source": [
        "#create a mathematical function that best characterizes the data \n",
        "plt.figure(figsize=(6,4))\n",
        "plt.hist(azimuth_neg90['Range(m)'], density=True, bins=50)\n",
        "sigma = .008\n",
        "mu = 9.281\n",
        "x_list = np.arange(9.25, 9.31, 0.001) \n",
        "y = []\n",
        "for x in x_list:\n",
        "  y.append((1/(np.sqrt(2*np.pi)*sigma))*np.exp(-(x-mu)**2/(2*sigma**2)))\n",
        "plt.plot(x_list, y)\n",
        "plt.title(\"Histogram and Probability Distrubution (for Azimuth = -90 degrees)\")\n",
        "plt.ylabel(\"Probability / Frequency\")\n",
        "plt.xlabel(\"Range (m)\")\n",
        "plt.legend([\"Conditional Probability Function\",\"Frequency of Range Measurement (unnormalized)\"])\n",
        "plt.show()"
      ],
      "execution_count": null,
      "outputs": [
        {
          "output_type": "display_data",
          "data": {
            "image/png": "[encoded data removed]",
            "text/plain": [
              "<Figure size 432x288 with 1 Axes>"
            ]
          },
          "metadata": {
            "tags": [],
            "needs_background": "light"
          }
        }
      ]
    },
    {
      "cell_type": "code",
      "metadata": {
        "id": "IMoGu3VZuZel",
        "colab_type": "code",
        "colab": {
          "base_uri": "https://localhost:8080/",
          "height": 282
        },
        "outputId": "a7a0bbff-18e0-44d7-dc22-0bd1fb719677"
      },
      "source": [
        "plt.hist(azimuth_neg90['Range(m)'], bins=50)\n",
        "sigma = .009\n",
        "mu = 9.281\n",
        "x_axis = np.arange(9.2, 9.4, 0.001)\n",
        "plt.plot(x_axis, norm.pdf(x_axis,mu,sigma))\n",
        "plt.show()"
      ],
      "execution_count": null,
      "outputs": [
        {
          "output_type": "display_data",
          "data": {
            "image/png": "[encoded data removed]",
            "text/plain": [
              "<Figure size 432x288 with 1 Axes>"
            ]
          },
          "metadata": {
            "tags": []
          }
        }
      ]
    },
    {
      "cell_type": "code",
      "metadata": {
        "id": "zNxvDko8sedq",
        "colab_type": "code",
        "colab": {
          "base_uri": "https://localhost:8080/",
          "height": 34
        },
        "outputId": "30c29e83-91a5-4d9a-b206-cd85f06450ef"
      },
      "source": [
        "f1 = lambda x:(1/(np.sqrt(2*np.pi)*sigma)*np.exp(-(x-mu)**2/(2*sigma**2)))\n",
        "i = scipy.integrate.quad(f1, mu-sigma, mu+sigma)\n",
        "print(i)"
      ],
      "execution_count": null,
      "outputs": [
        {
          "output_type": "stream",
          "text": [
            "(0.6826894921370418, 7.579375928401985e-15)\n"
          ],
          "name": "stdout"
        }
      ]
    },
    {
      "cell_type": "markdown",
      "metadata": {
        "id": "hYAY1DgM2ezg",
        "colab_type": "text"
      },
      "source": [
        "#Transform and plot the GPS measurements"
      ]
    },
    {
      "cell_type": "code",
      "metadata": {
        "id": "gDzoxZKplHCZ",
        "colab_type": "code",
        "colab": {
          "base_uri": "https://localhost:8080/",
          "height": 312
        },
        "outputId": "349ad887-44d4-40d1-8cc7-39c7d23dfeaf"
      },
      "source": [
        "# Transform the GPS longitude and latitude measurements (from the azimuth=0 file) to X and Y coordinates in meters\n",
        "longitude = azimuth_0['Longitude']*np.pi/180\n",
        "latitude = azimuth_0['Latitude']*np.pi/180\n",
        "lon_0 = np.mean(longitude)\n",
        "lat_0 = np.mean(latitude)\n",
        "rad = 6371000 \n",
        "x = rad*(longitude-lon_0)*np.cos(lat_0)\n",
        "y = rad*(latitude-lat_0)\n",
        "plt.scatter(x,y)\n",
        "plt.title(\"XY Coordinates\")\n",
        "plt.xlabel(\"X Position (m)\")\n",
        "plt.ylabel(\"Y Position (m)\")"
      ],
      "execution_count": null,
      "outputs": [
        {
          "output_type": "execute_result",
          "data": {
            "text/plain": [
              "Text(0, 0.5, 'Y Position (m)')"
            ]
          },
          "metadata": {
            "tags": []
          },
          "execution_count": 28
        },
        {
          "output_type": "display_data",
          "data": {
            "image/png": "[encoded data removed]",
            "text/plain": [
              "<Figure size 432x288 with 1 Axes>"
            ]
          },
          "metadata": {
            "tags": [],
            "needs_background": "light"
          }
        }
      ]
    },
    {
      "cell_type": "markdown",
      "metadata": {
        "id": "ItkQTihy-ro0",
        "colab_type": "text"
      },
      "source": [
        "#Implement Bayes rule"
      ]
    },
    {
      "cell_type": "code",
      "metadata": {
        "id": "jeK5u1ph-sUx",
        "colab_type": "code",
        "colab": {
          "base_uri": "https://localhost:8080/",
          "height": 170
        },
        "outputId": "5ac1c1d5-8962-4735-c4fd-fcec70e3ac2a"
      },
      "source": [
        "# use Bayes rule to calculate the probability of being in position states\n",
        "# our prior knowledge of states is such that p(xi) = 0.25\n",
        "# obtained a range measurement that is the first -90 degree azimuth range measurement\n",
        "z = azimuth_neg90['Range(m)'][0]\n",
        "# use Bayes rule to calculate the probability of being in position states\n",
        "pos_list = [9.6, 9.7, 9.8, 9.9]\n",
        "prob_list = []\n",
        "for pos in pos_list:\n",
        "  print(round(norm.pdf(pos,mu,sigma),100))\n",
        "  print(type(norm.pdf(pos,mu,sigma)))\n",
        "  p = f1(pos)*0.25\n",
        "  prob_list.append(p)\n",
        "print(prob_list)"
      ],
      "execution_count": null,
      "outputs": [
        {
          "output_type": "stream",
          "text": [
            "0.0\n",
            "<class 'numpy.float64'>\n",
            "0.0\n",
            "<class 'numpy.float64'>\n",
            "0.0\n",
            "<class 'numpy.float64'>\n",
            "0.0\n",
            "<class 'numpy.float64'>\n",
            "[0.0, 0.0, 0.0, 0.0]\n"
          ],
          "name": "stdout"
        }
      ]
    },
    {
      "cell_type": "markdown",
      "metadata": {
        "id": "2zbug-7HAiwz",
        "colab_type": "text"
      },
      "source": [
        "# Create Police Data Model"
      ]
    },
    {
      "cell_type": "code",
      "metadata": {
        "id": "c89l2ZVLkuES",
        "colab_type": "code",
        "colab": {}
      },
      "source": [
        "victims_black = police_df[police_df[\"Victim's race\"]==\"Black\"]\n",
        "victims_white = police_df[police_df[\"Victim's race\"]==\"White\"]\n",
        "victims_hispanic = police_df[police_df[\"Victim's race\"]==\"Hispanic\"]\n",
        "victims_asian = police_df[police_df[\"Victim's race\"]==\"Asian\"]"
      ],
      "execution_count": null,
      "outputs": []
    },
    {
      "cell_type": "code",
      "metadata": {
        "id": "QB9DDPGEkwhG",
        "colab_type": "code",
        "colab": {}
      },
      "source": [
        "# police_df = pd.read_csv(\"/content/drive/Shared drives/E205 /Lab1/police_killings.csv\")\n",
        "# filt = police_df[police_df[\"Victim's age\"].map(lambda x: isinstance(x,int))]\n",
        "def plot_age_histogram(df):\n",
        "    filt = df[df['Victim\\'s age'].notnull()]\n",
        "    filt = filt[filt[\"Victim\\'s age\"] != 'Unknown']\n",
        "    filt = filt[filt[\"Victim\\'s age\"] != '40s']\n",
        "    filt[\"Victim\\'s age\"] = pd.to_numeric(filt[\"Victim\\'s age\"], errors='coerce')\n",
        "    filt = filt.sort_values(by='Victim\\'s age')\n",
        "    return filt"
      ],
      "execution_count": null,
      "outputs": []
    },
    {
      "cell_type": "code",
      "metadata": {
        "id": "44ae1-wAkxOB",
        "colab_type": "code",
        "colab": {
          "base_uri": "https://localhost:8080/",
          "height": 434
        },
        "outputId": "946d94da-84c0-42fb-d092-a6398e8ecad4"
      },
      "source": [
        "plt.figure(figsize=(10,6))\n",
        "\n",
        "plt.suptitle(\"Histograms for Victim Age by Race\")\n",
        "x_axis = np.arange(0,100,.1)\n",
        "\n",
        "ax1 = plt.subplot(221)\n",
        "filtered = plot_age_histogram(victims_black)\n",
        "ax1.set_xlim(0, 100)\n",
        "ax1.hist(filtered[\"Victim\\'s age\"])\n",
        "ax1.set_title('Zoomed out')\n",
        "ax1.set_title(\"Black\")\n",
        "ax1.set_xlabel(\"Age\")\n",
        "ax1.set_ylabel(\"Frequency\")\n",
        "\n",
        "ax2 = plt.subplot(222)\n",
        "filtered = plot_age_histogram(victims_white)\n",
        "ax2.set_xlim(0, 100)\n",
        "ax2.hist(filtered[\"Victim\\'s age\"])\n",
        "ax2.set_title(\"White\")\n",
        "ax2.set_xlabel(\"Age\")\n",
        "ax2.set_ylabel(\"Frequency\")\n",
        "\n",
        "ax3 = plt.subplot(223)\n",
        "filtered = plot_age_histogram(victims_asian)\n",
        "ax3.set_xlim(0, 100)\n",
        "ax3.hist(filtered[\"Victim\\'s age\"])\n",
        "ax3.set_title(\"Asian\")\n",
        "ax3.set_xlabel(\"Age\")\n",
        "ax3.set_ylabel(\"Frequency\")\n",
        "\n",
        "ax4 = plt.subplot(224)\n",
        "filtered = plot_age_histogram(victims_hispanic)\n",
        "ax4.set_xlim(0, 100)\n",
        "ax4.hist(filtered[\"Victim\\'s age\"])\n",
        "ax4.set_title(\"Hispanic\")\n",
        "ax4.set_xlabel(\"Age\")\n",
        "ax4.set_ylabel(\"Frequency\")\n",
        "\n",
        "plt.tight_layout(pad=2.0)\n",
        "# plt.figure(figsize=(60,8))\n",
        "plt.show()"
      ],
      "execution_count": null,
      "outputs": [
        {
          "output_type": "display_data",
          "data": {
            "image/png": "[encoded data removed]",
            "text/plain": [
              "<Figure size 720x432 with 4 Axes>"
            ]
          },
          "metadata": {
            "tags": [],
            "needs_background": "light"
          }
        }
      ]
    },
    {
      "cell_type": "code",
      "metadata": {
        "id": "AD1up36VqCAC",
        "colab_type": "code",
        "colab": {
          "base_uri": "https://localhost:8080/",
          "height": 434
        },
        "outputId": "9d93dede-21c2-498b-d54a-209e1ac02a64"
      },
      "source": [
        "plt.figure(figsize=(8,6))\n",
        "\n",
        "plt.suptitle(\"Normalized Histograms and Probability Distribution for Victim Age by Race\")\n",
        "x_axis = np.arange(0,100,.1)\n",
        "\n",
        "ax1 = plt.subplot(221)\n",
        "filtered = plot_age_histogram(victims_black)\n",
        "ax1.hist(filtered[\"Victim\\'s age\"], density=True, \n",
        "         bins = [0, 15, 20, 25, 40, max(filtered[\"Victim\\'s age\"])])\n",
        "sigma = 9.5\n",
        "mu = 28\n",
        "ax1.plot(x_axis, norm.pdf(x_axis,mu,sigma))\n",
        "ax1.set_title('Zoomed out')\n",
        "ax1.set_title(\"Black\")\n",
        "ax1.set_xlabel(\"Age (years)\")\n",
        "ax1.set_ylabel(\"Probability\")\n",
        "\n",
        "ax2 = plt.subplot(222)\n",
        "filtered = plot_age_histogram(victims_white)\n",
        "ax2.hist(filtered[\"Victim\\'s age\"], density=True, \n",
        "         bins = [0, 15, 20, 25, 40, max(filtered[\"Victim\\'s age\"])])\n",
        "sigma = 13.5\n",
        "mu = 35\n",
        "ax2.plot(x_axis, norm.pdf(x_axis,mu,sigma))\n",
        "ax2.set_title(\"White\")\n",
        "ax2.set_xlabel(\"Age (years)\")\n",
        "ax2.set_ylabel(\"Probability\")\n",
        "\n",
        "ax3 = plt.subplot(223)\n",
        "filtered = plot_age_histogram(victims_asian)\n",
        "#ax3.set_xlim(0, 100)\n",
        "ax3.hist(filtered[\"Victim\\'s age\"], density=True, \n",
        "         bins = [0, 15, 20, 25, 40, max(filtered[\"Victim\\'s age\"])])\n",
        "sigma = 11.5\n",
        "mu = 32\n",
        "ax3.plot(x_axis, norm.pdf(x_axis,mu,sigma))\n",
        "ax3.set_title(\"Asian\")\n",
        "ax3.set_xlabel(\"Age (years)\")\n",
        "ax3.set_ylabel(\"Probability\")\n",
        "\n",
        "ax4 = plt.subplot(224)\n",
        "filtered = plot_age_histogram(victims_hispanic)\n",
        "#ax4.set_xlim(0, 100)\n",
        "ax4.hist(filtered[\"Victim\\'s age\"], density=True, \n",
        "         bins = [0, 15, 20, 25, 40, max(filtered[\"Victim\\'s age\"])])\n",
        "sigma = 11\n",
        "mu = 30\n",
        "ax4.plot(x_axis, norm.pdf(x_axis,mu,sigma))\n",
        "ax4.set_title(\"Hispanic\")\n",
        "ax4.set_xlabel(\"Age (years)\")\n",
        "ax4.set_ylabel(\"Probability\")\n",
        "\n",
        "plt.tight_layout(pad=2.0)\n",
        "# plt.figure(figsize=(60,8))\n",
        "plt.show()"
      ],
      "execution_count": null,
      "outputs": [
        {
          "output_type": "display_data",
          "data": {
            "image/png": "[encoded data removed]",
            "text/plain": [
              "<Figure size 576x432 with 4 Axes>"
            ]
          },
          "metadata": {
            "tags": [],
            "needs_background": "light"
          }
        }
      ]
    },
    {
      "cell_type": "code",
      "metadata": {
        "id": "yeT_eDAuN5lm",
        "colab_type": "code",
        "colab": {
          "base_uri": "https://localhost:8080/",
          "height": 639
        },
        "outputId": "7168f877-fd0a-4ffe-db49-199676c8a46e"
      },
      "source": [
        "plt.hist(azimuth_neg90['Range(m)'], density=True, bins=50)"
      ],
      "execution_count": null,
      "outputs": [
        {
          "output_type": "execute_result",
          "data": {
            "text/plain": [
              "(array([  0.91374269,   0.        ,   4.56871345,   0.        ,\n",
              "          4.56871345,   0.        ,  11.87865497,   0.        ,\n",
              "         15.53362573,   0.        ,  21.01608187,   0.        ,\n",
              "         48.42836257,   0.        ,  55.73830409,   0.        ,\n",
              "         82.23684211,   0.        ,  88.63304094,   0.        ,\n",
              "        100.51169591,   0.        ,  96.85672515,   0.        ,\n",
              "        116.95906433,   0.        ,   0.        , 116.95906433,\n",
              "          0.        ,  79.49561404,   0.        ,  67.61695906,\n",
              "          0.        ,  41.11842105,   0.        ,  34.72222222,\n",
              "          0.        ,  29.23976608,   0.        ,  10.05116959,\n",
              "          0.        ,   5.48245614,   0.        ,   6.39619883,\n",
              "          0.        ,   1.82748538,   0.        ,   0.        ,\n",
              "          0.        ,   0.91374269]),\n",
              " array([9.256  , 9.25696, 9.25792, 9.25888, 9.25984, 9.2608 , 9.26176,\n",
              "        9.26272, 9.26368, 9.26464, 9.2656 , 9.26656, 9.26752, 9.26848,\n",
              "        9.26944, 9.2704 , 9.27136, 9.27232, 9.27328, 9.27424, 9.2752 ,\n",
              "        9.27616, 9.27712, 9.27808, 9.27904, 9.28   , 9.28096, 9.28192,\n",
              "        9.28288, 9.28384, 9.2848 , 9.28576, 9.28672, 9.28768, 9.28864,\n",
              "        9.2896 , 9.29056, 9.29152, 9.29248, 9.29344, 9.2944 , 9.29536,\n",
              "        9.29632, 9.29728, 9.29824, 9.2992 , 9.30016, 9.30112, 9.30208,\n",
              "        9.30304, 9.304  ]),\n",
              " <a list of 50 Patch objects>)"
            ]
          },
          "metadata": {
            "tags": []
          },
          "execution_count": 108
        },
        {
          "output_type": "display_data",
          "data": {
            "image/png": "[encoded data removed]",
            "text/plain": [
              "<Figure size 432x288 with 1 Axes>"
            ]
          },
          "metadata": {
            "tags": [],
            "needs_background": "light"
          }
        }
      ]
    },
    {
      "cell_type": "code",
      "metadata": {
        "id": "hawK1XV0X70Z",
        "colab_type": "code",
        "colab": {}
      },
      "source": [
        ""
      ],
      "execution_count": null,
      "outputs": []
    }
  ]
}