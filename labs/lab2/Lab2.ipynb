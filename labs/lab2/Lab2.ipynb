{
 "cells": [
  {
   "cell_type": "markdown",
   "metadata": {},
   "source": [
    "# Lab 2: 1D Filtering"
   ]
  },
  {
   "cell_type": "markdown",
   "metadata": {},
   "source": [
    "## 1. OneD Kalman Filter For Filtering Yaw"
   ]
  },
  {
   "cell_type": "code",
   "execution_count": 1,
   "metadata": {},
   "outputs": [],
   "source": [
    "import matplotlib.pyplot as plt\n",
    "import pandas as pd\n",
    "import numpy as np\n",
    "from scipy.stats import norm, halfnorm\n",
    "from math import sqrt"
   ]
  },
  {
   "cell_type": "code",
   "execution_count": 2,
   "metadata": {},
   "outputs": [],
   "source": [
    "df_08_22_47 = pd.read_csv('data/2020-02-08_08_22_47.csv')\n",
    "df_08_34_45 = pd.read_csv('data/2020-02-08_08_34_45.csv')\n",
    "df_08_52_01 = pd.read_csv('data/2020-02-08_08_52_01.csv')"
   ]
  },
  {
   "cell_type": "markdown",
   "metadata": {},
   "source": [
    "### 1a. Calculate Variance"
   ]
  },
  {
   "cell_type": "code",
   "execution_count": 4,
   "metadata": {},
   "outputs": [
    {
     "data": {
      "image/png": "[encoded data removed]",
      "text/plain": [
       "<Figure size 432x288 with 1 Axes>"
      ]
     },
     "metadata": {
      "needs_background": "light"
     },
     "output_type": "display_data"
    }
   ],
   "source": [
    "hist = df_08_22_47.hist(bins=30, column=\"Yaw(degrees)\", density=True)\n",
    "sigma = 1.3\n",
    "mu = 99.15\n",
    "x_axis = np.arange(90, 110, 0.2)\n",
    "\n",
    "plt.ylabel(\"Probability / Normalized Frequency\")\n",
    "plt.xlabel(\"Yaw (degrees)\")\n",
    "# plt.title(\"Normalized Histogram and Probability Distribution for Yaw\")\n",
    "\n",
    "plt.title(\"\")\n",
    "plt.plot(x_axis, norm.pdf(x_axis,mu,sigma))\n",
    "plt.show()"
   ]
  },
  {
   "cell_type": "code",
   "execution_count": 50,
   "metadata": {},
   "outputs": [
    {
     "data": {
      "text/plain": [
       "1.6900000000000002"
      ]
     },
     "execution_count": 50,
     "metadata": {},
     "output_type": "execute_result"
    }
   ],
   "source": [
    "## variance = 1.69 \n",
    "variance = (sigma)**2 \n",
    "\n",
    "variance"
   ]
  },
  {
   "cell_type": "markdown",
   "metadata": {},
   "source": [
    "### 1b,c. Apply Kalman Correction Step & Plot\n",
    "Done in separate file; thanks Andrew :)"
   ]
  },
  {
   "cell_type": "markdown",
   "metadata": {},
   "source": [
    "## 2. Bayes Filter For Estimating Vehicle is stopped\n",
    "\n",
    "In this part of the lab, we will make progress in answering the question: Parked or Not Parked?\n",
    "This is an import capability for autonomous vehicles. Here we will only be asking the question:\n",
    "Stopped or Not Stopped, although extra work could be done to modify the algorithm for the more\n",
    "difficult question."
   ]
  },
  {
   "cell_type": "markdown",
   "metadata": {},
   "source": [
    "2a) Examine the Excel sheet that has [x,y,theta] data for ego vehicle and 6 other vehicles. \n",
    "At the same time, watch the video of the attached scene and try to spot each vehicle in the video.\n",
    "The vehicles are described in a table in the Excel sheet, (i.e. far right columns).\n",
    "\n",
    "2b) Plot speed histogram for car 4; Using this histogram, create a PDF that represents the conditional probability p(s|x = stopped)."
   ]
  },
  {
   "cell_type": "code",
   "execution_count": 21,
   "metadata": {},
   "outputs": [
    {
     "data": {
      "text/html": [
       "<div>\n",
       "<style scoped>\n",
       "    .dataframe tbody tr th:only-of-type {\n",
       "        vertical-align: middle;\n",
       "    }\n",
       "\n",
       "    .dataframe tbody tr th {\n",
       "        vertical-align: top;\n",
       "    }\n",
       "\n",
       "    .dataframe thead th {\n",
       "        text-align: right;\n",
       "    }\n",
       "</style>\n",
       "<table border=\"1\" class=\"dataframe\">\n",
       "  <thead>\n",
       "    <tr style=\"text-align: right;\">\n",
       "      <th></th>\n",
       "      <th>Time (s)</th>\n",
       "      <th>X_ego</th>\n",
       "      <th>Y_ego</th>\n",
       "      <th>Yaw_ego</th>\n",
       "      <th>X_1</th>\n",
       "      <th>Y_1</th>\n",
       "      <th>Yaw_1</th>\n",
       "      <th>X_2</th>\n",
       "      <th>Y_2</th>\n",
       "      <th>Yaw_2</th>\n",
       "      <th>...</th>\n",
       "      <th>Yaw_3</th>\n",
       "      <th>X_4</th>\n",
       "      <th>Y_4</th>\n",
       "      <th>Yaw_4</th>\n",
       "      <th>X_5</th>\n",
       "      <th>Y_5</th>\n",
       "      <th>Yaw_5</th>\n",
       "      <th>X_6</th>\n",
       "      <th>Y_6</th>\n",
       "      <th>Yaw_6</th>\n",
       "    </tr>\n",
       "  </thead>\n",
       "  <tbody>\n",
       "    <tr>\n",
       "      <th>0</th>\n",
       "      <td>0.0</td>\n",
       "      <td>599.849775</td>\n",
       "      <td>1647.641129</td>\n",
       "      <td>-0.500766</td>\n",
       "      <td>635.447</td>\n",
       "      <td>1620.546</td>\n",
       "      <td>-0.888442</td>\n",
       "      <td>NaN</td>\n",
       "      <td>NaN</td>\n",
       "      <td>NaN</td>\n",
       "      <td>...</td>\n",
       "      <td>NaN</td>\n",
       "      <td>NaN</td>\n",
       "      <td>NaN</td>\n",
       "      <td>NaN</td>\n",
       "      <td>NaN</td>\n",
       "      <td>NaN</td>\n",
       "      <td>NaN</td>\n",
       "      <td>NaN</td>\n",
       "      <td>NaN</td>\n",
       "      <td>NaN</td>\n",
       "    </tr>\n",
       "    <tr>\n",
       "      <th>1</th>\n",
       "      <td>0.5</td>\n",
       "      <td>603.568608</td>\n",
       "      <td>1645.536401</td>\n",
       "      <td>-0.518344</td>\n",
       "      <td>637.445</td>\n",
       "      <td>1618.566</td>\n",
       "      <td>-0.731363</td>\n",
       "      <td>660.000</td>\n",
       "      <td>1613.648</td>\n",
       "      <td>-1.976742</td>\n",
       "      <td>...</td>\n",
       "      <td>NaN</td>\n",
       "      <td>NaN</td>\n",
       "      <td>NaN</td>\n",
       "      <td>NaN</td>\n",
       "      <td>NaN</td>\n",
       "      <td>NaN</td>\n",
       "      <td>NaN</td>\n",
       "      <td>NaN</td>\n",
       "      <td>NaN</td>\n",
       "      <td>NaN</td>\n",
       "    </tr>\n",
       "    <tr>\n",
       "      <th>2</th>\n",
       "      <td>1.0</td>\n",
       "      <td>607.193716</td>\n",
       "      <td>1643.374074</td>\n",
       "      <td>-0.545476</td>\n",
       "      <td>639.933</td>\n",
       "      <td>1616.457</td>\n",
       "      <td>-0.696456</td>\n",
       "      <td>660.012</td>\n",
       "      <td>1613.639</td>\n",
       "      <td>-1.976742</td>\n",
       "      <td>...</td>\n",
       "      <td>NaN</td>\n",
       "      <td>NaN</td>\n",
       "      <td>NaN</td>\n",
       "      <td>NaN</td>\n",
       "      <td>NaN</td>\n",
       "      <td>NaN</td>\n",
       "      <td>NaN</td>\n",
       "      <td>NaN</td>\n",
       "      <td>NaN</td>\n",
       "      <td>NaN</td>\n",
       "    </tr>\n",
       "    <tr>\n",
       "      <th>3</th>\n",
       "      <td>1.5</td>\n",
       "      <td>610.730703</td>\n",
       "      <td>1641.142628</td>\n",
       "      <td>-0.574253</td>\n",
       "      <td>642.736</td>\n",
       "      <td>1614.065</td>\n",
       "      <td>-0.731363</td>\n",
       "      <td>660.025</td>\n",
       "      <td>1613.629</td>\n",
       "      <td>-1.976742</td>\n",
       "      <td>...</td>\n",
       "      <td>NaN</td>\n",
       "      <td>NaN</td>\n",
       "      <td>NaN</td>\n",
       "      <td>NaN</td>\n",
       "      <td>NaN</td>\n",
       "      <td>NaN</td>\n",
       "      <td>NaN</td>\n",
       "      <td>NaN</td>\n",
       "      <td>NaN</td>\n",
       "      <td>NaN</td>\n",
       "    </tr>\n",
       "    <tr>\n",
       "      <th>4</th>\n",
       "      <td>2.0</td>\n",
       "      <td>614.199961</td>\n",
       "      <td>1638.821691</td>\n",
       "      <td>-0.601656</td>\n",
       "      <td>646.361</td>\n",
       "      <td>1610.980</td>\n",
       "      <td>-0.713909</td>\n",
       "      <td>660.010</td>\n",
       "      <td>1613.556</td>\n",
       "      <td>-1.976742</td>\n",
       "      <td>...</td>\n",
       "      <td>NaN</td>\n",
       "      <td>NaN</td>\n",
       "      <td>NaN</td>\n",
       "      <td>NaN</td>\n",
       "      <td>662.526</td>\n",
       "      <td>1618.552</td>\n",
       "      <td>-2.096856</td>\n",
       "      <td>NaN</td>\n",
       "      <td>NaN</td>\n",
       "      <td>NaN</td>\n",
       "    </tr>\n",
       "  </tbody>\n",
       "</table>\n",
       "<p>5 rows × 22 columns</p>\n",
       "</div>"
      ],
      "text/plain": [
       "   Time (s)       X_ego        Y_ego   Yaw_ego      X_1       Y_1     Yaw_1  \\\n",
       "0       0.0  599.849775  1647.641129 -0.500766  635.447  1620.546 -0.888442   \n",
       "1       0.5  603.568608  1645.536401 -0.518344  637.445  1618.566 -0.731363   \n",
       "2       1.0  607.193716  1643.374074 -0.545476  639.933  1616.457 -0.696456   \n",
       "3       1.5  610.730703  1641.142628 -0.574253  642.736  1614.065 -0.731363   \n",
       "4       2.0  614.199961  1638.821691 -0.601656  646.361  1610.980 -0.713909   \n",
       "\n",
       "       X_2       Y_2     Yaw_2  ...  Yaw_3  X_4  Y_4  Yaw_4      X_5  \\\n",
       "0      NaN       NaN       NaN  ...    NaN  NaN  NaN    NaN      NaN   \n",
       "1  660.000  1613.648 -1.976742  ...    NaN  NaN  NaN    NaN      NaN   \n",
       "2  660.012  1613.639 -1.976742  ...    NaN  NaN  NaN    NaN      NaN   \n",
       "3  660.025  1613.629 -1.976742  ...    NaN  NaN  NaN    NaN      NaN   \n",
       "4  660.010  1613.556 -1.976742  ...    NaN  NaN  NaN    NaN  662.526   \n",
       "\n",
       "        Y_5     Yaw_5  X_6  Y_6  Yaw_6  \n",
       "0       NaN       NaN  NaN  NaN    NaN  \n",
       "1       NaN       NaN  NaN  NaN    NaN  \n",
       "2       NaN       NaN  NaN  NaN    NaN  \n",
       "3       NaN       NaN  NaN  NaN    NaN  \n",
       "4  1618.552 -2.096856  NaN  NaN    NaN  \n",
       "\n",
       "[5 rows x 22 columns]"
      ]
     },
     "execution_count": 21,
     "metadata": {},
     "output_type": "execute_result"
    }
   ],
   "source": [
    "nuscenes_data = pd.read_csv('data/E205_Lab2_NuScenesData.csv')\n",
    "nuscenes_data.head()"
   ]
  },
  {
   "cell_type": "code",
   "execution_count": 22,
   "metadata": {},
   "outputs": [],
   "source": [
    "def get_speed(x_vector, y_vector, dt):\n",
    "    \"\"\"\n",
    "        speed = distance / time\n",
    "        We assume dt is constant, \n",
    "        and that len(x_vector) == len(y_vector).\n",
    "    \"\"\"\n",
    "    x_list = x_vector.tolist()\n",
    "    y_list = y_vector.tolist()\n",
    "    speed_vector = []\n",
    "    for t in range(len(x_list)-1):\n",
    "        x_0 = x_list[t]\n",
    "        y_0 = y_list[t]\n",
    "        x_1 = x_list[t+1]\n",
    "        y_1 = y_list[t+1]\n",
    "        distance = sqrt((x_0 - x_1)**2 + (y_0 - y_1)**2)\n",
    "        speed_vector.append(distance/dt)\n",
    "    return pd.Series(speed_vector) "
   ]
  },
  {
   "cell_type": "code",
   "execution_count": 23,
   "metadata": {},
   "outputs": [
    {
     "data": {
      "text/html": [
       "<div>\n",
       "<style scoped>\n",
       "    .dataframe tbody tr th:only-of-type {\n",
       "        vertical-align: middle;\n",
       "    }\n",
       "\n",
       "    .dataframe tbody tr th {\n",
       "        vertical-align: top;\n",
       "    }\n",
       "\n",
       "    .dataframe thead th {\n",
       "        text-align: right;\n",
       "    }\n",
       "</style>\n",
       "<table border=\"1\" class=\"dataframe\">\n",
       "  <thead>\n",
       "    <tr style=\"text-align: right;\">\n",
       "      <th></th>\n",
       "      <th>Time</th>\n",
       "      <th>Speed</th>\n",
       "    </tr>\n",
       "  </thead>\n",
       "  <tbody>\n",
       "    <tr>\n",
       "      <th>0</th>\n",
       "      <td>6.5</td>\n",
       "      <td>0.066483</td>\n",
       "    </tr>\n",
       "    <tr>\n",
       "      <th>1</th>\n",
       "      <td>7.0</td>\n",
       "      <td>0.063655</td>\n",
       "    </tr>\n",
       "    <tr>\n",
       "      <th>2</th>\n",
       "      <td>7.5</td>\n",
       "      <td>0.000000</td>\n",
       "    </tr>\n",
       "    <tr>\n",
       "      <th>3</th>\n",
       "      <td>8.0</td>\n",
       "      <td>0.022627</td>\n",
       "    </tr>\n",
       "    <tr>\n",
       "      <th>4</th>\n",
       "      <td>8.5</td>\n",
       "      <td>0.021260</td>\n",
       "    </tr>\n",
       "  </tbody>\n",
       "</table>\n",
       "</div>"
      ],
      "text/plain": [
       "   Time     Speed\n",
       "0   6.5  0.066483\n",
       "1   7.0  0.063655\n",
       "2   7.5  0.000000\n",
       "3   8.0  0.022627\n",
       "4   8.5  0.021260"
      ]
     },
     "execution_count": 23,
     "metadata": {},
     "output_type": "execute_result"
    }
   ],
   "source": [
    "def get_speed_with_time(car_df, dt):\n",
    "    \"\"\"\n",
    "        speed = distance / time\n",
    "        We assume dt is constant, \n",
    "        and that len(x_vector) == len(y_vector).\n",
    "    \"\"\"\n",
    "    speed_vector = []\n",
    "    time_vector = []\n",
    "    for i in range(len(car_df)-1):\n",
    "        _, x_0, y_0 = car_df.iloc[i]\n",
    "        t, x_1, y_1 = car_df.iloc[i+1]\n",
    "        distance = sqrt((x_0 - x_1)**2 + (y_0 - y_1)**2)\n",
    "        speed_vector.append(distance/dt)\n",
    "        time_vector.append(t)\n",
    "    d = {'Time': time_vector, 'Speed': speed_vector}\n",
    "    return pd.DataFrame(data=d)\n",
    "\n",
    "car_data = nuscenes_data[[\"Time (s)\",\"X_4\", \"Y_4\"]].dropna()\n",
    "speed_with_time = get_speed_with_time(car_data, 0.5)\n",
    "speed_with_time.head()"
   ]
  },
  {
   "cell_type": "code",
   "execution_count": 24,
   "metadata": {},
   "outputs": [],
   "source": [
    "# other cars\n",
    "car_data_ego = nuscenes_data[[\"Time (s)\",\"X_ego\", \"Y_ego\"]].dropna()\n",
    "speed_with_time_ego = get_speed_with_time(car_data_ego, 0.5)\n",
    "car_data_1 = nuscenes_data[[\"Time (s)\",\"X_1\", \"Y_1\"]].dropna()\n",
    "speed_with_time_1 = get_speed_with_time(car_data_1, 0.5)\n",
    "car_data_6 = nuscenes_data[[\"Time (s)\",\"X_6\", \"Y_6\"]].dropna()\n",
    "speed_with_time_6 = get_speed_with_time(car_data_6, 0.5)"
   ]
  },
  {
   "cell_type": "code",
   "execution_count": 25,
   "metadata": {},
   "outputs": [],
   "source": [
    "# stopped cars\n",
    "car_4_x, car_4_y = nuscenes_data['X_4'][12:], nuscenes_data['Y_4'][12:]\n",
    "speed_4 = get_speed(car_4_x, car_4_y, 0.5)\n",
    "\n",
    "car_data_4 = nuscenes_data[[\"Time (s)\",\"X_4\", \"Y_4\"]].dropna()\n",
    "speed_with_time_4 = get_speed_with_time(car_data_4, 0.5)"
   ]
  },
  {
   "cell_type": "code",
   "execution_count": 26,
   "metadata": {},
   "outputs": [],
   "source": [
    "# moving cars\n",
    "car_2_x, car_2_y = nuscenes_data['X_2'], nuscenes_data['Y_2']\n",
    "speed_2 = get_speed(car_2_x, car_2_y, 0.5)\n",
    "car_3_x, car_3_y = nuscenes_data['X_3'], nuscenes_data['Y_3']\n",
    "speed_3 = get_speed(car_3_x, car_3_y, 0.5)\n",
    "car_5_x, car_5_y = nuscenes_data['X_5'][4:], nuscenes_data['Y_5'][4:]\n",
    "speed_5 = get_speed(car_5_x, car_5_y, 0.5)\n",
    "\n",
    "car_data_2 = nuscenes_data[[\"Time (s)\",\"X_2\", \"Y_2\"]].dropna()\n",
    "speed_with_time_2 = get_speed_with_time(car_data_2, 0.5)\n",
    "car_data_3 = nuscenes_data[[\"Time (s)\",\"X_3\", \"Y_3\"]].dropna()\n",
    "speed_with_time_3 = get_speed_with_time(car_data_3, 0.5)\n",
    "car_data_5 = nuscenes_data[[\"Time (s)\",\"X_5\", \"Y_5\"]].dropna()\n",
    "speed_with_time_5 = get_speed_with_time(car_data_5, 0.5)"
   ]
  },
  {
   "cell_type": "code",
   "execution_count": 27,
   "metadata": {},
   "outputs": [
    {
     "data": {
      "image/png": "[encoded data removed]",
      "text/plain": [
       "<Figure size 432x288 with 2 Axes>"
      ]
     },
     "metadata": {
      "needs_background": "light"
     },
     "output_type": "display_data"
    }
   ],
   "source": [
    "# plt.hist(speed_3, bins=50)\n",
    "# plt.ylabel(\"Normalized Frequency\")\n",
    "\n",
    "mu_s = 0.033\n",
    "mu_n = 0\n",
    "sigma_s = 0.01 \n",
    "sigma_n = 0.7\n",
    "\n",
    "s = speed_2.append(speed_3).append(speed_5)\n",
    "ax1 = plt.subplot(211)\n",
    "ax1.hist(speed_4, bins=30,density=True)\n",
    "ax1.set_title(\"P( s | x = stopped)\")\n",
    "ax1.set_xlabel(\"Speed (m/s)\")\n",
    "# ax1.set_ylabel(\"Normalized Frequency\")\n",
    "\n",
    "ax2 = plt.subplot(212)\n",
    "ax2.hist(s,bins=30,density=True)\n",
    "ax2.set_title(\"P( s | x = not stopped)\")\n",
    "ax2.set_xlabel(\"Speed (m/s)\")\n",
    "# ax2.set_ylabel(\"Normalized Frequency\")\n",
    "\n",
    "x_axis_s = np.arange(0,0.2,.001)\n",
    "x_axis_n = np.arange(0,10,.02)\n",
    "ax1.plot(x_axis_s, norm.pdf(x_axis_s,mu_s,sigma_s))\n",
    "ax2.plot(x_axis_n, halfnorm.pdf(x_axis_n,mu_n,sigma_n))\n",
    "\n",
    "\n",
    "plt.tight_layout(pad=1.0)\n",
    "plt.show()"
   ]
  },
  {
   "cell_type": "code",
   "execution_count": 28,
   "metadata": {},
   "outputs": [
    {
     "data": {
      "text/plain": [
       "28.96915527614827"
      ]
     },
     "execution_count": 28,
     "metadata": {},
     "output_type": "execute_result"
    }
   ],
   "source": [
    "norm.pdf(0.025,mu_s,sigma_s)"
   ]
  },
  {
   "cell_type": "code",
   "execution_count": 31,
   "metadata": {},
   "outputs": [],
   "source": [
    "prob_s_s = 0.6\n",
    "prob_n_s = 0.4\n",
    "prob_s_n = 0.25\n",
    "prob_n_n = 0.75\n",
    "    \n",
    "def bayes_filter(speed_with_time):\n",
    "    # initialize\n",
    "    '''\n",
    "    for t, _ in enumerate(speed_data):\n",
    "        bel_x_t = speed_data[t]\n",
    "        # predict\n",
    "        bel_n = prediction_step(bel_x_t)\n",
    "        bel_s = prediction_step(bel_x_t, stopped=False)\n",
    "        # correct\n",
    "        bel_x_t = [correction_step(bel_s), correction_step(bel_n, stopped=False)]\n",
    "    '''\n",
    "    bayes_filter = []\n",
    "    x_t = speed_with_time.iloc[0]['Speed']\n",
    "    bel_x_t = [norm.pdf(x_t,mu_s,sigma_s), halfnorm.pdf(x_t,mu_n,sigma_n)]\n",
    "    for i in range(len(speed_with_time)):\n",
    "        x_t = speed_with_time.iloc[i]['Speed']\n",
    "        # predict\n",
    "        bel_s = prediction_step(bel_x_t, stopped=True)\n",
    "        bel_n = prediction_step(bel_x_t, stopped=False)\n",
    "        # correct\n",
    "        bel_x_t = [correction_step(bel_s, x_t, stopped=True), correction_step(bel_n, x_t, stopped=False)]\n",
    "        bel_x_t = [x / (bel_x_t[0]+bel_x_t[1]) for x in bel_x_t]\n",
    "        bayes_filter.append(bel_x_t) \n",
    "    bayes_filter = np.array(bayes_filter)\n",
    "    return [bayes_filter.flatten('F')[:len(speed_with_time)], bayes_filter.flatten('F')[len(speed_with_time):]]\n",
    "    \n",
    "def prediction_step(prev, stopped = True):\n",
    "    if stopped:\n",
    "        bel_x_t = (prob_s_s)*prev[0] + (prob_s_n)*prev[1]\n",
    "    else:\n",
    "        bel_x_t = (prob_n_s)*prev[0] + (prob_n_n)*prev[1]\n",
    "    return bel_x_t\n",
    "    \n",
    "def correction_step(prev, x_t, stopped = True):\n",
    "    if stopped:\n",
    "        bel_x_t = norm.pdf(x_t,mu_s,sigma_s)*prev\n",
    "    else:\n",
    "        bel_x_t = halfnorm.pdf(x_t,mu_n,sigma_n)*prev\n",
    "    return bel_x_t\n"
   ]
  },
  {
   "cell_type": "code",
   "execution_count": 46,
   "metadata": {},
   "outputs": [],
   "source": [
    "filter_ego = bayes_filter(speed_with_time_ego)\n",
    "filter_1 = bayes_filter(speed_with_time_1)\n",
    "filter_2 = bayes_filter(speed_with_time_2)\n",
    "filter_3 = bayes_filter(speed_with_time_3)\n",
    "filter_4 = bayes_filter(speed_with_time_4)\n",
    "filter_5 = bayes_filter(speed_with_time_5)\n",
    "filter_6 = bayes_filter(speed_with_time_6)"
   ]
  },
  {
   "cell_type": "code",
   "execution_count": 94,
   "metadata": {},
   "outputs": [
    {
     "ename": "AttributeError",
     "evalue": "'AxesSubplot' object has no attribute 'set_axis_bgcolor'",
     "output_type": "error",
     "traceback": [
      "\u001b[0;31m---------------------------------------------------------------------------\u001b[0m",
      "\u001b[0;31mAttributeError\u001b[0m                            Traceback (most recent call last)",
      "\u001b[0;32m<ipython-input-94-6ad9a7aa6444>\u001b[0m in \u001b[0;36m<module>\u001b[0;34m\u001b[0m\n\u001b[1;32m     16\u001b[0m \u001b[0;34m\u001b[0m\u001b[0m\n\u001b[1;32m     17\u001b[0m \u001b[0mbig_ax\u001b[0m \u001b[0;34m=\u001b[0m \u001b[0mplt\u001b[0m\u001b[0;34m.\u001b[0m\u001b[0msubplot\u001b[0m\u001b[0;34m(\u001b[0m\u001b[0;36m111\u001b[0m\u001b[0;34m,\u001b[0m \u001b[0mframeon\u001b[0m\u001b[0;34m=\u001b[0m\u001b[0;32mFalse\u001b[0m\u001b[0;34m)\u001b[0m\u001b[0;34m\u001b[0m\u001b[0;34m\u001b[0m\u001b[0m\n\u001b[0;32m---> 18\u001b[0;31m \u001b[0mbig_ax\u001b[0m\u001b[0;34m.\u001b[0m\u001b[0mset_axis_bgcolor\u001b[0m\u001b[0;34m(\u001b[0m\u001b[0;34m'none'\u001b[0m\u001b[0;34m)\u001b[0m\u001b[0;34m\u001b[0m\u001b[0;34m\u001b[0m\u001b[0m\n\u001b[0m\u001b[1;32m     19\u001b[0m \u001b[0mplt\u001b[0m\u001b[0;34m.\u001b[0m\u001b[0mtight_layout\u001b[0m\u001b[0;34m(\u001b[0m\u001b[0mpad\u001b[0m\u001b[0;34m=\u001b[0m\u001b[0;36m0.5\u001b[0m\u001b[0;34m)\u001b[0m\u001b[0;34m\u001b[0m\u001b[0;34m\u001b[0m\u001b[0m\n\u001b[1;32m     20\u001b[0m \u001b[0;34m\u001b[0m\u001b[0m\n",
      "\u001b[0;31mAttributeError\u001b[0m: 'AxesSubplot' object has no attribute 'set_axis_bgcolor'"
     ]
    },
    {
     "data": {
      "image/png": "[encoded data removed]",
      "text/plain": [
       "<Figure size 432x288 with 1 Axes>"
      ]
     },
     "metadata": {
      "needs_background": "light"
     },
     "output_type": "display_data"
    }
   ],
   "source": [
    "fig_size=(8,4)\n",
    "\n",
    "ax1 = plt.subplot(321)\n",
    "ax2 = plt.subplot(322)\n",
    "ax3 = plt.subplot(323)\n",
    "ax4 = plt.subplot(324)\n",
    "ax5 = plt.subplot(325)\n",
    "ax6 = plt.subplot(326)\n",
    "\n",
    "ax1.plot(speed_with_time_1[\"Time\"], filter_1[0])\n",
    "ax2.plot(speed_with_time_2[\"Time\"], filter_2[0])\n",
    "ax3.plot(speed_with_time_3[\"Time\"], filter_3[0])\n",
    "ax4.plot(speed_with_time_4[\"Time\"], filter_4[0])\n",
    "ax5.plot(speed_with_time_5[\"Time\"], filter_5[0])\n",
    "ax6.plot(speed_with_time_6[\"Time\"], filter_6[0])\n",
    "\n",
    "big_ax = plt.subplot(111, frameon=False)\n",
    "big_ax.set_axis_bgcolor('none')\n",
    "\n",
    "plt.tight_layout(pad=0.5)\n",
    "\n",
    "plt.show()\n"
   ]
  },
  {
   "cell_type": "code",
   "execution_count": 134,
   "metadata": {},
   "outputs": [
    {
     "data": {
      "image/png": "[encoded data removed]",
      "text/plain": [
       "<Figure size 432x432 with 6 Axes>"
      ]
     },
     "metadata": {
      "needs_background": "light"
     },
     "output_type": "display_data"
    }
   ],
   "source": [
    "fig, axes2d = plt.subplots(nrows=3, ncols=2,\n",
    "                           sharex=True, sharey=True,\n",
    "                           figsize=(6,6))\n",
    "\n",
    "# I am so sorry about this code ~daphne\n",
    "\n",
    "for i, row in enumerate(axes2d):\n",
    "    for j, cell in enumerate(row):\n",
    "        car = 2*i + j\n",
    "        cell.set_title(f\"Car {car+1}\")\n",
    "        \n",
    "        if car == 0:\n",
    "            cell.plot(speed_with_time_1[\"Time\"], filter_1[0])\n",
    "        elif car == 1:\n",
    "            cell.plot(speed_with_time_2[\"Time\"], filter_2[0])\n",
    "        elif car == 2:\n",
    "            cell.set_ylabel(\"Probability of being stopped\", fontsize=12)\n",
    "            cell.plot(speed_with_time_3[\"Time\"], filter_3[0])\n",
    "        elif car == 3:\n",
    "            cell.plot(speed_with_time_4[\"Time\"], filter_4[0])\n",
    "        elif car == 4:\n",
    "            cell.plot(speed_with_time_5[\"Time\"], filter_5[0])\n",
    "        else:\n",
    "            cell.plot(speed_with_time_6[\"Time\"], filter_6[0])\n",
    "        if i == len(axes2d) - 1:\n",
    "            cell.set_xlabel(\"Time (s)\", fontsize=12)\n",
    "            \n",
    "plt.tight_layout()"
   ]
  },
  {
   "cell_type": "code",
   "execution_count": null,
   "metadata": {},
   "outputs": [],
   "source": [
    "bel_x_t = [1,2]\n",
    "bel_x_t = [x / (bel_x_t[0]+bel_x_t[1]) for x in bel_x_t]\n",
    "bel_x_t"
   ]
  },
  {
   "cell_type": "code",
   "execution_count": null,
   "metadata": {},
   "outputs": [],
   "source": [
    "filter_6"
   ]
  },
  {
   "cell_type": "markdown",
   "metadata": {},
   "source": [
    "## 3. Applying Bayes Filter to Police Violence Data\n",
    "\n",
    "prob_white = 73.0\n",
    "prob_black = 12.7\n",
    "prob_asian = 5.4\n",
    "prob_hispanic = 17.6\n"
   ]
  },
  {
   "cell_type": "code",
   "execution_count": 124,
   "metadata": {},
   "outputs": [
    {
     "name": "stdout",
     "output_type": "stream",
     "text": [
      "0.6715731370745169 0.1168353265869365 0.04967801287948482 0.16191352345906163\n"
     ]
    }
   ],
   "source": [
    "prob_white = 73.0\n",
    "prob_black = 12.7\n",
    "prob_asian = 5.4\n",
    "prob_hispanic = 17.6\n",
    "\n",
    "prob_sum = prob_white + prob_black + prob_asian + prob_hispanic\n",
    "\n",
    "\n",
    "# normalizeeee\n",
    "prob_white = 73.0/prob_sum\n",
    "prob_black = 12.7/prob_sum\n",
    "prob_asian = 5.4/prob_sum\n",
    "prob_hispanic = 17.6/prob_sum\n",
    "\n",
    "print(prob_white, prob_black, prob_asian, prob_hispanic)\n"
   ]
  },
  {
   "cell_type": "code",
   "execution_count": 125,
   "metadata": {},
   "outputs": [],
   "source": [
    "pk = pd.read_csv(\"data/police_killings.csv\")\n",
    "pk_armed = pk[[\"Unarmed\",\"Victim's race\"]].dropna()\n",
    "races = ['White', 'Black', 'Hispanic', 'Asian']\n",
    "pk_armed = pk_armed[pk_armed[\"Victim's race\"].isin(races)]\n",
    "pk_armed[\"Unarmed\"].replace({'Allegedly Armed':'Armed'}, inplace = True)\n",
    "arm_options = ['Unarmed', 'Armed', 'Unclear']\n",
    "pk_armed = pk_armed[pk_armed[\"Unarmed\"].isin(arm_options)]\n"
   ]
  },
  {
   "cell_type": "code",
   "execution_count": 126,
   "metadata": {},
   "outputs": [],
   "source": [
    "pk_n = pk_armed[pk_armed['Unarmed']=='Unarmed']\n",
    "pk_a = pk_armed[pk_armed['Unarmed']=='Armed']\n",
    "pk_u = pk_armed[pk_armed['Unarmed']=='Unclear']\n",
    "\n",
    "p_w_n = pk_n[\"Victim's race\"].value_counts()['White']/len(pk_n)\n",
    "p_w_a = pk_a[\"Victim's race\"].value_counts()['White']/len(pk_a)\n",
    "p_w_u = pk_u[\"Victim's race\"].value_counts()['White']/len(pk_u)\n",
    "\n",
    "p_b_n = pk_n[\"Victim's race\"].value_counts()['Black']/len(pk_n)\n",
    "p_b_a = pk_a[\"Victim's race\"].value_counts()['Black']/len(pk_a)\n",
    "p_b_u = pk_u[\"Victim's race\"].value_counts()['Black']/len(pk_u)\n",
    "\n",
    "p_h_n = pk_n[\"Victim's race\"].value_counts()['Hispanic']/len(pk_n)\n",
    "p_h_a = pk_a[\"Victim's race\"].value_counts()['Hispanic']/len(pk_a)\n",
    "p_h_u = pk_u[\"Victim's race\"].value_counts()['Hispanic']/len(pk_u)\n",
    "\n",
    "p_a_n = pk_n[\"Victim's race\"].value_counts()['Asian']/len(pk_n)\n",
    "p_a_a = pk_a[\"Victim's race\"].value_counts()['Asian']/len(pk_a)\n",
    "p_a_u = pk_u[\"Victim's race\"].value_counts()['Asian']/len(pk_u)"
   ]
  },
  {
   "cell_type": "code",
   "execution_count": 127,
   "metadata": {},
   "outputs": [
    {
     "name": "stdout",
     "output_type": "stream",
     "text": [
      "p_w_n 0.4515484515484515\n",
      "p_w_a 0.5168798490249529\n",
      "p_w_u 0.45940959409594095\n",
      "p_b_n 0.3356643356643357\n",
      "p_b_a 0.2738519605787377\n",
      "p_b_u 0.28044280442804426\n",
      "p_h_n 0.2007992007992008\n",
      "p_h_a 0.18976724680226462\n",
      "p_h_u 0.24354243542435425\n",
      "p_a_n 0.011988011988011988\n",
      "p_a_a 0.019500943594044872\n",
      "p_a_u 0.016605166051660517\n"
     ]
    }
   ],
   "source": [
    "print(\"p_w_n\", p_w_n)\n",
    "print(\"p_w_a\", p_w_a)\n",
    "print(\"p_w_u\", p_w_u)\n",
    "print(\"p_b_n\", p_b_n)\n",
    "print(\"p_b_a\", p_b_a)\n",
    "print(\"p_b_u\", p_b_u)\n",
    "print(\"p_h_n\", p_h_n)\n",
    "print(\"p_h_a\", p_h_a)\n",
    "print(\"p_h_u\", p_h_u)\n",
    "print(\"p_a_n\", p_a_n)\n",
    "print(\"p_a_a\", p_a_a)\n",
    "print(\"p_a_u\", p_a_u)"
   ]
  },
  {
   "cell_type": "code",
   "execution_count": 128,
   "metadata": {},
   "outputs": [
    {
     "name": "stdout",
     "output_type": "stream",
     "text": [
      "0      409\n",
      "25     254\n",
      "27     244\n",
      "34     243\n",
      "32     240\n",
      "      ... \n",
      "95       1\n",
      "93       1\n",
      "79       1\n",
      "91       1\n",
      "107      1\n",
      "Name: Victim's age, Length: 73, dtype: int64\n",
      "1    7048\n",
      "0     409\n",
      "Name: Victim's age, dtype: int64\n"
     ]
    },
    {
     "name": "stderr",
     "output_type": "stream",
     "text": [
      "<ipython-input-128-d4268e835403>:7: SettingWithCopyWarning: \n",
      "A value is trying to be set on a copy of a slice from a DataFrame\n",
      "\n",
      "See the caveats in the documentation: https://pandas.pydata.org/pandas-docs/stable/user_guide/indexing.html#returning-a-view-versus-a-copy\n",
      "  pk_age[\"Victim's age\"][pk_age[\"Victim's age\"] < 20] = 0\n",
      "<ipython-input-128-d4268e835403>:9: SettingWithCopyWarning: \n",
      "A value is trying to be set on a copy of a slice from a DataFrame\n",
      "\n",
      "See the caveats in the documentation: https://pandas.pydata.org/pandas-docs/stable/user_guide/indexing.html#returning-a-view-versus-a-copy\n",
      "  pk_age[\"Victim's age\"][pk_age[\"Victim's age\"] >= 20] = 1\n"
     ]
    }
   ],
   "source": [
    "pk_age = pk[[\"Victim's age\",\"Victim's race\"]].dropna()\n",
    "\n",
    "pk_age = pk_age[pk_age['Victim\\'s age'].notnull()]\n",
    "pk_age = pk_age[pk_age[\"Victim\\'s age\"] != 'Unknown']\n",
    "pk_age = pk_age[pk_age[\"Victim\\'s age\"] != '40s']\n",
    "pk_age[\"Victim's age\"] = pd.to_numeric(pk_age[\"Victim\\'s age\"], errors='coerce')\n",
    "pk_age[\"Victim's age\"][pk_age[\"Victim's age\"] < 20] = 0\n",
    "print(pk_age[\"Victim\\'s age\"].value_counts())\n",
    "pk_age[\"Victim's age\"][pk_age[\"Victim's age\"] >= 20] = 1\n",
    "print(pk_age[\"Victim\\'s age\"].value_counts())"
   ]
  },
  {
   "cell_type": "code",
   "execution_count": 129,
   "metadata": {},
   "outputs": [],
   "source": [
    "pk_w = pk_age[pk_age[\"Victim's race\"]=='White']\n",
    "pk_b = pk_age[pk_age[\"Victim's race\"]=='Black']\n",
    "pk_h = pk_age[pk_age[\"Victim's race\"]=='Hispanic']\n",
    "pk_a = pk_age[pk_age[\"Victim's race\"]=='Asian']\n",
    "\n",
    "p_w_y = pk_w[\"Victim's age\"].value_counts()[0]/len(pk_w)\n",
    "p_b_y = pk_b[\"Victim's age\"].value_counts()[0]/len(pk_b)\n",
    "p_h_y = pk_h[\"Victim's age\"].value_counts()[0]/len(pk_h)\n",
    "p_a_y = pk_a[\"Victim's age\"].value_counts()[0]/len(pk_a)"
   ]
  },
  {
   "cell_type": "code",
   "execution_count": 130,
   "metadata": {},
   "outputs": [
    {
     "data": {
      "text/plain": [
       "1    3250\n",
       "0     105\n",
       "Name: Victim's age, dtype: int64"
      ]
     },
     "execution_count": 130,
     "metadata": {},
     "output_type": "execute_result"
    }
   ],
   "source": [
    "pk_w[\"Victim's age\"].value_counts()"
   ]
  },
  {
   "cell_type": "code",
   "execution_count": 131,
   "metadata": {},
   "outputs": [
    {
     "name": "stdout",
     "output_type": "stream",
     "text": [
      "p_w_y 0.03129657228017884\n",
      "p_b_y 0.08883116883116883\n",
      "p_h_y 0.07401696222050887\n",
      "p_a_y 0.05084745762711865\n"
     ]
    }
   ],
   "source": [
    "print(\"p_w_y\", p_w_y)\n",
    "print(\"p_b_y\", p_b_y)\n",
    "print(\"p_h_y\", p_h_y)\n",
    "print(\"p_a_y\", p_a_y)"
   ]
  },
  {
   "cell_type": "code",
   "execution_count": 132,
   "metadata": {},
   "outputs": [
    {
     "name": "stdout",
     "output_type": "stream",
     "text": [
      "0.5053857980391505 0.3109634872821784 0.2436957162609999 0.1074826736944241\n",
      "0.4531206800579495 0.36041338735065676 0.25252127945854885 0.10147232840959779\n"
     ]
    }
   ],
   "source": [
    "# part c.a\n",
    "\n",
    "p_w_case_a = p_w_a*.8+p_w_u*.2\n",
    "p_b_case_a = p_b_a*.8+p_w_u*.2\n",
    "p_h_case_a = p_h_a*.8+p_w_u*.2\n",
    "p_a_case_a = p_a_a*.8+p_w_u*.2\n",
    "\n",
    "print(p_w_case_a, p_b_case_a, p_h_case_a, p_a_case_a)\n",
    "\n",
    "#c.b\n",
    "\n",
    "p_w_case_b = p_w_n*.8+p_w_u*.2\n",
    "p_b_case_b = p_b_n*.8+p_w_u*.2\n",
    "p_h_case_b = p_h_n*.8+p_w_u*.2\n",
    "p_a_case_b = p_a_n*.8+p_w_u*.2\n",
    "\n",
    "print(p_w_case_b, p_b_case_b, p_h_case_b, p_a_case_b)"
   ]
  },
  {
   "cell_type": "code",
   "execution_count": 133,
   "metadata": {},
   "outputs": [
    {
     "name": "stdout",
     "output_type": "stream",
     "text": [
      "0.457838267324923 0.22607969163776587 0.05502441798484613 0.2610576230524651\n"
     ]
    }
   ],
   "source": [
    "p_w_twnty = p_w_y*prob_white\n",
    "p_b_twnty = p_b_y*prob_black\n",
    "p_a_twnty = p_a_y*prob_asian\n",
    "p_h_twnty = p_h_y*prob_hispanic\n",
    "\n",
    "sum_twnty = p_w_twnty + p_b_twnty + p_a_twnty + p_h_twnty\n",
    "p_w_twnty = p_w_twnty / sum_twnty\n",
    "p_b_twnty = p_b_twnty / sum_twnty\n",
    "p_a_twnty = p_a_twnty / sum_twnty\n",
    "p_h_twnty = p_h_twnty / sum_twnty\n",
    "\n",
    "print(p_w_twnty,p_b_twnty,p_a_twnty,p_h_twnty)"
   ]
  }
 ],
 "metadata": {
  "kernelspec": {
   "display_name": "Python 3",
   "language": "python",
   "name": "python3"
  },
  "language_info": {
   "codemirror_mode": {
    "name": "ipython",
    "version": 3
   },
   "file_extension": ".py",
   "mimetype": "text/x-python",
   "name": "python",
   "nbconvert_exporter": "python",
   "pygments_lexer": "ipython3",
   "version": "3.8.4"
  }
 },
 "nbformat": 4,
 "nbformat_minor": 4
}
